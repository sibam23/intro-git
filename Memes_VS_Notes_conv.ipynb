{
  "nbformat": 4,
  "nbformat_minor": 0,
  "metadata": {
    "colab": {
      "name": "Memes_VS_Notes_conv.ipynb",
      "provenance": [],
      "collapsed_sections": [],
      "authorship_tag": "ABX9TyOOK/PefQKTyXM+0JEwqbul",
      "include_colab_link": true
    },
    "kernelspec": {
      "name": "python3",
      "display_name": "Python 3"
    }
  },
  "cells": [
    {
      "cell_type": "markdown",
      "metadata": {
        "id": "view-in-github",
        "colab_type": "text"
      },
      "source": [
        "<a href=\"https://colab.research.google.com/github/sibam23/intro-git/blob/master/Memes_VS_Notes_conv.ipynb\" target=\"_parent\"><img src=\"https://colab.research.google.com/assets/colab-badge.svg\" alt=\"Open In Colab\"/></a>"
      ]
    },
    {
      "cell_type": "code",
      "metadata": {
        "id": "p2upIFGQwWX1",
        "colab_type": "code",
        "colab": {}
      },
      "source": [
        "import os\n",
        "import torch\n",
        "import torch.nn as nn\n",
        "import torch.nn.functional as F\n",
        "import numpy as np\n",
        "import cv2\n",
        "from matplotlib import pyplot as plt\n",
        "import random\n"
      ],
      "execution_count": 8,
      "outputs": []
    },
    {
      "cell_type": "markdown",
      "metadata": {
        "id": "IWw_ZAkYwnJf",
        "colab_type": "text"
      },
      "source": [
        "importing required libraries"
      ]
    },
    {
      "cell_type": "code",
      "metadata": {
        "id": "pZXsl_GqxG6R",
        "colab_type": "code",
        "colab": {
          "base_uri": "https://localhost:8080/",
          "height": 121
        },
        "outputId": "e0d070c9-63ca-4d00-9f01-afa39576fd08"
      },
      "source": [
        "from google.colab import drive\n",
        "drive.mount('/content/gdrive')"
      ],
      "execution_count": 2,
      "outputs": [
        {
          "output_type": "stream",
          "text": [
            "Go to this URL in a browser: https://accounts.google.com/o/oauth2/auth?client_id=947318989803-6bn6qk8qdgf4n4g3pfee6491hc0brc4i.apps.googleusercontent.com&redirect_uri=urn%3aietf%3awg%3aoauth%3a2.0%3aoob&scope=email%20https%3a%2f%2fwww.googleapis.com%2fauth%2fdocs.test%20https%3a%2f%2fwww.googleapis.com%2fauth%2fdrive%20https%3a%2f%2fwww.googleapis.com%2fauth%2fdrive.photos.readonly%20https%3a%2f%2fwww.googleapis.com%2fauth%2fpeopleapi.readonly&response_type=code\n",
            "\n",
            "Enter your authorization code:\n",
            "··········\n",
            "Mounted at /content/gdrive\n"
          ],
          "name": "stdout"
        }
      ]
    },
    {
      "cell_type": "markdown",
      "metadata": {
        "id": "qjv4v2FMxcPX",
        "colab_type": "text"
      },
      "source": [
        "importing data drom drive"
      ]
    },
    {
      "cell_type": "code",
      "metadata": {
        "id": "rDhrdio4yYUR",
        "colab_type": "code",
        "colab": {}
      },
      "source": [
        "data_meme = \"/content/gdrive/My Drive/Stage_0/Stage_0/Memes\"\n",
        "data_note = \"/content/gdrive/My Drive/Stage_0/Stage_0/Notes\""
      ],
      "execution_count": 3,
      "outputs": []
    },
    {
      "cell_type": "code",
      "metadata": {
        "id": "u1xmh-D9yzDd",
        "colab_type": "code",
        "colab": {}
      },
      "source": [
        "def dataloader(folder):\n",
        "  images = []\n",
        "  for file in os.listdir(folder):\n",
        "    img = cv2.imread(os.path.join(folder,file))\n",
        "    img = cv2.cvtColor(img,cv2.COLOR_BGR2RGB)\n",
        "    img = cv2.resize(img,(100,100))\n",
        "    images.append(img)\n",
        "    \n",
        "  return images\n",
        "    "
      ],
      "execution_count": 4,
      "outputs": []
    },
    {
      "cell_type": "markdown",
      "metadata": {
        "id": "_TZOOjQo0Se-",
        "colab_type": "text"
      },
      "source": [
        "function to label memes as 1,notes as 0"
      ]
    },
    {
      "cell_type": "code",
      "metadata": {
        "id": "wZ0yN9bR0YgG",
        "colab_type": "code",
        "colab": {
          "base_uri": "https://localhost:8080/",
          "height": 34
        },
        "outputId": "b8aa1fd1-181d-4f88-ae7d-0e8d03782415"
      },
      "source": [
        "memes = dataloader(data_meme)\n",
        "notes = dataloader(data_note)\n",
        "memes = np.array(memes)\n",
        "memes = memes.reshape(800,3,100,100)\n",
        "memelabel = np.ones(memes.shape[0])\n",
        "notes = np.array(notes)\n",
        "notes = notes.reshape(800,3,100,100)\n",
        "notelabel = np.zeros(notes.shape[0])\n",
        "print(notelabel.shape)\n",
        "\n",
        "                          "
      ],
      "execution_count": 5,
      "outputs": [
        {
          "output_type": "stream",
          "text": [
            "(800,)\n"
          ],
          "name": "stdout"
        }
      ]
    },
    {
      "cell_type": "code",
      "metadata": {
        "id": "4-bSVeN0-ie4",
        "colab_type": "code",
        "colab": {}
      },
      "source": [
        "memedata = list(zip(memes,memelabel))\n",
        "notedata = list(zip(notes,notelabel))\n",
        "datatrain = []\n",
        "datatrain = memedata[0:750] + notedata[0:750]\n",
        "random.shuffle(datatrain)\n",
        "X_train,Y_train = list(zip(*datatrain))\n",
        "\n",
        "datatest = []\n",
        "datatest = memedata[750:775] + notedata[750:775]\n",
        "random.shuffle(datatest)\n",
        "X_test,Y_test = list(zip(*datatest))\n",
        "\n",
        "dataval = []\n",
        "dataval = memedata[775:] + notedata[775:]\n",
        "random.shuffle(dataval)\n",
        "X_val,Y_val = list(zip(*dataval))\n",
        "\n",
        "X_train = torch.tensor(X_train)\n",
        "X_test = torch.tensor(X_test)\n",
        "X_val = torch.tensor(X_val)\n",
        "Y_train = torch.tensor(Y_train).long()\n",
        "Y_test = torch.tensor(Y_test).long()\n",
        "Y_val = torch.tensor(Y_val).long()\n",
        "X_train = torch.true_divide(X_train,255.0)\n",
        "X_test = torch.true_divide(X_test,255.0)\n",
        "X_val = torch.true_divide(X_val,255.0)\n",
        "\n",
        "\n"
      ],
      "execution_count": 35,
      "outputs": []
    },
    {
      "cell_type": "markdown",
      "metadata": {
        "id": "yuyD-EKXKHgq",
        "colab_type": "text"
      },
      "source": [
        "splitting data and converting to tensor"
      ]
    },
    {
      "cell_type": "code",
      "metadata": {
        "id": "yYlcPGCzKCdw",
        "colab_type": "code",
        "colab": {}
      },
      "source": [
        "class ConvNet(nn.Module):\n",
        "  def __init__(self):\n",
        "    super().__init__()\n",
        "    self.conv1 = nn.Conv2d(3,32,5,stride=1)\n",
        "    self.conv2 = nn.Conv2d(32,48,5,stride=1)\n",
        "    self.mpool1 = nn.MaxPool2d(2,2)\n",
        "    self.conv3 = nn.Conv2d(48,64,5,stride=1)\n",
        "    self.conv4 = nn.Conv2d(64,96,5)\n",
        "    self.mpool2 = nn.MaxPool2d(2,2)\n",
        "    self.conv5 = nn.Conv2d(96,120,11,stride=4)\n",
        "    self.fc1 = nn.Linear(120*3*3,250)\n",
        "    self.fc2 = nn.Linear(250,2)\n",
        "    \n",
        "\n",
        "  def forward(self,x):\n",
        "    x = F.relu(self.conv1(x))\n",
        "    x = F.relu(self.conv2(x))\n",
        "    x = self.mpool1(x)\n",
        "    x = F.relu(self.conv3(x))\n",
        "    x = F.relu(self.conv4(x))\n",
        "    x = self.mpool2(x)\n",
        "    x= F.relu(self.conv5(x))\n",
        "    x = x.view(x.size(0),-1)\n",
        "    x = F.relu(self.fc1(x))\n",
        "    x = self.fc2(x)\n",
        "    return x\n",
        "\n",
        "\n",
        "\n",
        "\n",
        "    \n",
        "\n",
        "\n",
        "\n",
        "\n",
        "\n",
        "\n",
        "\n",
        "\n",
        "\n",
        "\n",
        "\n",
        "\n"
      ],
      "execution_count": 46,
      "outputs": []
    },
    {
      "cell_type": "markdown",
      "metadata": {
        "id": "9qxsFLqf4Q6V",
        "colab_type": "text"
      },
      "source": [
        "network architecture and forward propagation\n"
      ]
    },
    {
      "cell_type": "code",
      "metadata": {
        "id": "qUpoP96Mqr4S",
        "colab_type": "code",
        "colab": {
          "base_uri": "https://localhost:8080/",
          "height": 202
        },
        "outputId": "90222808-57de-4dd7-f5de-7dee799286db"
      },
      "source": [
        "net = ConvNet()\n",
        "print(net)"
      ],
      "execution_count": 47,
      "outputs": [
        {
          "output_type": "stream",
          "text": [
            "ConvNet(\n",
            "  (conv1): Conv2d(3, 32, kernel_size=(5, 5), stride=(1, 1))\n",
            "  (conv2): Conv2d(32, 48, kernel_size=(5, 5), stride=(1, 1))\n",
            "  (mpool1): MaxPool2d(kernel_size=2, stride=2, padding=0, dilation=1, ceil_mode=False)\n",
            "  (conv3): Conv2d(48, 64, kernel_size=(5, 5), stride=(1, 1))\n",
            "  (conv4): Conv2d(64, 96, kernel_size=(5, 5), stride=(1, 1))\n",
            "  (mpool2): MaxPool2d(kernel_size=2, stride=2, padding=0, dilation=1, ceil_mode=False)\n",
            "  (conv5): Conv2d(96, 120, kernel_size=(11, 11), stride=(4, 4))\n",
            "  (fc1): Linear(in_features=1080, out_features=250, bias=True)\n",
            "  (fc2): Linear(in_features=250, out_features=2, bias=True)\n",
            ")\n"
          ],
          "name": "stdout"
        }
      ]
    },
    {
      "cell_type": "code",
      "metadata": {
        "id": "SsjfJHlYtKVW",
        "colab_type": "code",
        "colab": {}
      },
      "source": [
        "\n",
        "optimizer = torch.optim.Adam(net.parameters(),lr=0.0001)\n",
        "lossfn = nn.CrossEntropyLoss()"
      ],
      "execution_count": 48,
      "outputs": []
    },
    {
      "cell_type": "markdown",
      "metadata": {
        "id": "gYwUNZDg4WxD",
        "colab_type": "text"
      },
      "source": [
        "loss function and optimiser(adam)"
      ]
    },
    {
      "cell_type": "code",
      "metadata": {
        "id": "H7sEaoiotNRn",
        "colab_type": "code",
        "colab": {}
      },
      "source": [
        "\n",
        "def accuracy(label, pred):\n",
        "  pred = F.softmax(pred, dim=1)\n",
        "  count =0\n",
        "  pred = torch.argmax(pred, dim=1, keepdims=True)\n",
        "  pred = pred.reshape(pred.shape[0])\n",
        "  for i in range(len(label)):\n",
        "    if label[i]==pred[i]:\n",
        "      count+=1\n",
        "\n",
        "  accu = 100*count/label.shape[0]\n",
        "  return accu"
      ],
      "execution_count": 49,
      "outputs": []
    },
    {
      "cell_type": "markdown",
      "metadata": {
        "id": "xnk5pkeR4ajt",
        "colab_type": "text"
      },
      "source": [
        "accuracy function"
      ]
    },
    {
      "cell_type": "code",
      "metadata": {
        "id": "LzaqK70kt0iN",
        "colab_type": "code",
        "colab": {
          "base_uri": "https://localhost:8080/",
          "height": 521
        },
        "outputId": "fba974ff-26af-4d7a-c24d-5af361b289b9"
      },
      "source": [
        "testacc = []\n",
        "trainloss = []\n",
        "testloss = []\n",
        "valacc = []\n",
        "valloss = []\n",
        "epoch = 5\n",
        "for i in range(epoch):\n",
        "    k=0  \n",
        "    for j in range(30): \n",
        "      \n",
        "      out = net.forward(X_train[k:k+50])\n",
        "      loss = lossfn(out, Y_train[k:k+50])\n",
        "        \n",
        "      k+=50\n",
        "      optimizer.zero_grad()\n",
        "      loss.backward()\n",
        "      optimizer.step()\n",
        "    \n",
        "    with torch.no_grad():\n",
        "\n",
        "      tracc = accuracy(Y_train, net.forward(X_train))\n",
        "      vloss = lossfn(net.forward(X_val),Y_val)\n",
        "      tacc = accuracy(Y_test, net.forward(X_test))\n",
        "      vacc = accuracy(Y_val,net.forward(X_val))\n",
        "\n",
        "    \n",
        "    print(f\"training loss:{loss}\")\n",
        "    trainloss.append(loss)\n",
        "    print(f\"validation loss:{vloss}\")\n",
        "    valloss.append(vloss.item())\n",
        "    print(f\"training accuracy:{tracc}\")\n",
        "    trainacc.append(tracc)\n",
        "    print(f\"validation accuracy:{vacc}\")\n",
        "    valacc.append(vacc)\n",
        "    print(f\"testing accuracy:{tacc}\")\n",
        "    testacc.append(tacc)\n",
        "    print()\n",
        "\n",
        "\n"
      ],
      "execution_count": 50,
      "outputs": [
        {
          "output_type": "stream",
          "text": [
            "training loss:0.026904836297035217\n",
            "validation loss:0.20261606574058533\n",
            "training accuracy:94.6\n",
            "validation accuracy:92.0\n",
            "testing accuracy:96.0\n",
            "\n",
            "training loss:0.10891931504011154\n",
            "validation loss:0.1627635508775711\n",
            "training accuracy:94.66666666666667\n",
            "validation accuracy:94.0\n",
            "testing accuracy:96.0\n",
            "\n",
            "training loss:0.030582383275032043\n",
            "validation loss:0.14469464123249054\n",
            "training accuracy:96.53333333333333\n",
            "validation accuracy:94.0\n",
            "testing accuracy:96.0\n",
            "\n",
            "training loss:0.03730110824108124\n",
            "validation loss:0.13049747049808502\n",
            "training accuracy:96.53333333333333\n",
            "validation accuracy:96.0\n",
            "testing accuracy:98.0\n",
            "\n",
            "training loss:0.028783848509192467\n",
            "validation loss:0.14352208375930786\n",
            "training accuracy:96.86666666666666\n",
            "validation accuracy:96.0\n",
            "testing accuracy:98.0\n",
            "\n"
          ],
          "name": "stdout"
        }
      ]
    },
    {
      "cell_type": "code",
      "metadata": {
        "id": "EU2TON3B5Cq6",
        "colab_type": "code",
        "colab": {
          "base_uri": "https://localhost:8080/",
          "height": 284
        },
        "outputId": "726e00d6-699a-425b-80fd-7fec65e3be54"
      },
      "source": [
        "plt.plot(trainloss)\n",
        "plt.ylabel(loss)\n",
        "plt.xlabel(epoch)\n",
        "plt.show()"
      ],
      "execution_count": 52,
      "outputs": [
        {
          "output_type": "display_data",
          "data": {
            "image/png": "[encoded data removed]",
            "text/plain": [
              "<Figure size 432x288 with 1 Axes>"
            ]
          },
          "metadata": {
            "tags": [],
            "needs_background": "light"
          }
        }
      ]
    },
    {
      "cell_type": "code",
      "metadata": {
        "id": "PcHu34Nz6YQw",
        "colab_type": "code",
        "colab": {
          "base_uri": "https://localhost:8080/",
          "height": 284
        },
        "outputId": "c504ab4f-e119-421c-a607-902498645b00"
      },
      "source": [
        "plt.plot(valloss)\n",
        "plt.ylabel(loss)\n",
        "plt.xlabel(epoch)\n",
        "plt.show()"
      ],
      "execution_count": 53,
      "outputs": [
        {
          "output_type": "display_data",
          "data": {
            "image/png": "[encoded data removed]",
            "text/plain": [
              "<Figure size 432x288 with 1 Axes>"
            ]
          },
          "metadata": {
            "tags": [],
            "needs_background": "light"
          }
        }
      ]
    }
  ]
}