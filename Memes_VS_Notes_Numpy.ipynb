{
  "nbformat": 4,
  "nbformat_minor": 0,
  "metadata": {
    "colab": {
      "name": "Memes_VS_Notes-Numpy",
      "provenance": [],
      "collapsed_sections": [],
      "authorship_tag": "ABX9TyOOwLyUZn41j89GWXubuAeR",
      "include_colab_link": true
    },
    "kernelspec": {
      "name": "python3",
      "display_name": "Python 3"
    }
  },
  "cells": [
    {
      "cell_type": "markdown",
      "metadata": {
        "id": "view-in-github",
        "colab_type": "text"
      },
      "source": [
        "<a href=\"https://colab.research.google.com/github/sibam23/memes_vs_note/blob/master/Memes_VS_Notes_Numpy.ipynb\" target=\"_parent\"><img src=\"https://colab.research.google.com/assets/colab-badge.svg\" alt=\"Open In Colab\"/></a>"
      ]
    },
    {
      "cell_type": "code",
      "metadata": {
        "id": "0qk1Wgh38t39",
        "colab_type": "code",
        "colab": {}
      },
      "source": [
        "import os\n",
        "import numpy as np\n",
        "from numpy import argmax\n",
        "import cv2\n",
        "from matplotlib import pyplot as plt\n",
        "import random\n",
        "np.random.seed(1)"
      ],
      "execution_count": 331,
      "outputs": []
    },
    {
      "cell_type": "code",
      "metadata": {
        "id": "OmurjJXx9N_X",
        "colab_type": "code",
        "colab": {
          "base_uri": "https://localhost:8080/",
          "height": 121
        },
        "outputId": "3530f369-997d-4ac8-96b8-e426ba2f7197"
      },
      "source": [
        "from google.colab import drive\n",
        "drive.mount('/content/gdrive')"
      ],
      "execution_count": 2,
      "outputs": [
        {
          "output_type": "stream",
          "text": [
            "Go to this URL in a browser: https://accounts.google.com/o/oauth2/auth?client_id=947318989803-6bn6qk8qdgf4n4g3pfee6491hc0brc4i.apps.googleusercontent.com&redirect_uri=urn%3aietf%3awg%3aoauth%3a2.0%3aoob&scope=email%20https%3a%2f%2fwww.googleapis.com%2fauth%2fdocs.test%20https%3a%2f%2fwww.googleapis.com%2fauth%2fdrive%20https%3a%2f%2fwww.googleapis.com%2fauth%2fdrive.photos.readonly%20https%3a%2f%2fwww.googleapis.com%2fauth%2fpeopleapi.readonly&response_type=code\n",
            "\n",
            "Enter your authorization code:\n",
            "··········\n",
            "Mounted at /content/gdrive\n"
          ],
          "name": "stdout"
        }
      ]
    },
    {
      "cell_type": "code",
      "metadata": {
        "id": "LVewXJ0K9Vmj",
        "colab_type": "code",
        "colab": {}
      },
      "source": [
        "data_meme = \"/content/gdrive/My Drive/Stage_0/Stage_0/Memes\"\n",
        "data_note = \"/content/gdrive/My Drive/Stage_0/Stage_0/Notes\""
      ],
      "execution_count": 3,
      "outputs": []
    },
    {
      "cell_type": "code",
      "metadata": {
        "id": "Cjo4k65A9Y0e",
        "colab_type": "code",
        "colab": {}
      },
      "source": [
        "def dataloader(folder):\n",
        "  images = []\n",
        "  for file in os.listdir(folder):\n",
        "    img = cv2.imread(os.path.join(folder,file))\n",
        "    img = cv2.cvtColor(img,cv2.COLOR_BGR2RGB)\n",
        "    img = cv2.resize(img,(64,64))\n",
        "    images.append(img)\n",
        "    \n",
        "  return images"
      ],
      "execution_count": 66,
      "outputs": []
    },
    {
      "cell_type": "code",
      "metadata": {
        "id": "nKrcEkec9jlc",
        "colab_type": "code",
        "colab": {
          "base_uri": "https://localhost:8080/",
          "height": 34
        },
        "outputId": "aa6dcde1-d0ef-4518-c60e-ed065e75b068"
      },
      "source": [
        "memes = dataloader(data_meme)\n",
        "notes = dataloader(data_note)\n",
        "memes = np.array(memes)\n",
        "memes = memes.reshape(800,64,64,3)\n",
        "memelabel = np.ones(memes.shape[0])\n",
        "notes = np.array(notes)\n",
        "notes = notes.reshape(800,64,64,3)\n",
        "notelabel = np.zeros(notes.shape[0])\n",
        "print(notelabel.shape)\n"
      ],
      "execution_count": 68,
      "outputs": [
        {
          "output_type": "stream",
          "text": [
            "(800,)\n"
          ],
          "name": "stdout"
        }
      ]
    },
    {
      "cell_type": "code",
      "metadata": {
        "id": "9LMnwb5KECxw",
        "colab_type": "code",
        "colab": {
          "base_uri": "https://localhost:8080/",
          "height": 34
        },
        "outputId": "45f7295e-6c23-4729-b4f0-da6a8b44420c"
      },
      "source": [
        "memedata = list(zip(memes,memelabel))\n",
        "notedata = list(zip(notes,notelabel))\n",
        "datatrain = []\n",
        "datatrain = memedata[0:750] + notedata[0:750]\n",
        "random.shuffle(datatrain)\n",
        "X_train,Y_train = list(zip(*datatrain))\n",
        "\n",
        "datatest = []\n",
        "datatest = memedata[750:775] + notedata[750:775]\n",
        "random.shuffle(datatest)\n",
        "X_test,Y_test = list(zip(*datatest))\n",
        "\n",
        "dataval = []\n",
        "dataval = memedata[775:] + notedata[775:]\n",
        "random.shuffle(dataval)\n",
        "X_val,Y_val = list(zip(*dataval))\n",
        "\n",
        "\n",
        "X_train = np.array(X_train)\n",
        "X_test = np.array(X_test)\n",
        "X_val = np.array(X_val)\n",
        "\n",
        "X_train = X_train.reshape(1500,-1)\n",
        "X_test = X_test.reshape(50,-1)\n",
        "X_val = X_val.reshape(50,-1)\n",
        "\n",
        "X_train = np.transpose(X_train)\n",
        "X_test = np.transpose(X_test)\n",
        "X_val = np.transpose(X_val)\n",
        "X_train.astype(float)\n",
        "X_test.astype(float)\n",
        "X_val.astype(float)\n",
        "\n",
        "\n",
        "\n",
        "X_train= X_train/255.0\n",
        "X_test= X_test/255.0\n",
        "X_val= X_val/255.0\n",
        "Y_train = np.array(Y_train)\n",
        "Y_train = Y_train.reshape(1,1500)\n",
        "Y_test = np.array(Y_test)\n",
        "Y_test = Y_test.reshape(1,50)\n",
        "Y_val = np.array(Y_val)\n",
        "Y_val = Y_val.reshape(1,50)\n",
        "\n",
        "print(Y_test.shape)\n"
      ],
      "execution_count": 221,
      "outputs": [
        {
          "output_type": "stream",
          "text": [
            "(1, 50)\n"
          ],
          "name": "stdout"
        }
      ]
    },
    {
      "cell_type": "code",
      "metadata": {
        "id": "TJJMyH4fFpAp",
        "colab_type": "code",
        "colab": {}
      },
      "source": [
        "def initialize_parameters_deep(layer_dims):\n",
        "    \n",
        "    \n",
        "    np.random.seed(1)\n",
        "    parameters = {}\n",
        "    L = len(layer_dims)            \n",
        "\n",
        "    for l in range(1, L):\n",
        "        \n",
        "        parameters['W' + str(l)] = np.random.randn(layer_dims[l],layer_dims[l-1])*0.01\n",
        "        parameters['b' + str(l)] = np.zeros((layer_dims[l],1))\n",
        "      \n",
        "\n",
        "        \n",
        "    return parameters"
      ],
      "execution_count": 332,
      "outputs": []
    },
    {
      "cell_type": "code",
      "metadata": {
        "id": "kRPy_GGYLkVM",
        "colab_type": "code",
        "colab": {}
      },
      "source": [
        "def forward_step(A_prev, W, b,method=\"relu\"):\n",
        "    \n",
        "    Z = np.dot(W,A_prev) + b\n",
        "    eps=1e-8\n",
        "    \n",
        "    if method==\"sigmoid\":\n",
        "        A = (1/(1+np.exp(-Z)))+eps\n",
        "    else:\n",
        "        A=np.maximum(float(0),Z)\n",
        "    cache_of_layer = (A_prev, W, b,Z)\n",
        "    return A, cache_of_layer"
      ],
      "execution_count": 141,
      "outputs": []
    },
    {
      "cell_type": "code",
      "metadata": {
        "id": "Gvkdaajy7ivu",
        "colab_type": "code",
        "colab": {}
      },
      "source": [
        "def forward_propagation(X, parameters):\n",
        "    caches = []\n",
        "    A = X\n",
        "    L = len(parameters) // 2                  \n",
        "    \n",
        "    for l in range(1, L):\n",
        "        A_prev = A \n",
        "        W=parameters['W' + str(l)]\n",
        "        b=parameters['b' + str(l)]\n",
        "        A, cache = forward_step(A_prev, W, b, \"relu\")\n",
        "        caches.append(cache)\n",
        "    \n",
        "    W=parameters['W' + str(L)]\n",
        "    b=parameters['b' + str(L)]\n",
        "    AL, cache = forward_step(A, W, b, \"sigmoid\")\n",
        "    caches.append(cache)\n",
        "    return AL, caches"
      ],
      "execution_count": 130,
      "outputs": []
    },
    {
      "cell_type": "code",
      "metadata": {
        "id": "bwwgWlC0MFyW",
        "colab_type": "code",
        "colab": {}
      },
      "source": [
        "def compute_cost(AL, Y):\n",
        "     \n",
        "    m = Y.shape[1]\n",
        "    eps = 1e-10\n",
        " \n",
        "    cost = (-1/m)*np.sum((np.multiply(np.log(AL+eps),Y))+np.multiply(np.log(1-AL+eps),(1-Y)))\n",
        "\n",
        "    \n",
        "    cost = np.squeeze(cost)     \n",
        "    assert(cost.shape == ())\n",
        "    \n",
        "    return cost"
      ],
      "execution_count": 131,
      "outputs": []
    },
    {
      "cell_type": "code",
      "metadata": {
        "id": "k3tNwkwiMmRb",
        "colab_type": "code",
        "colab": {}
      },
      "source": [
        "def backward_step(dA, cache, activation):\n",
        "    \n",
        "    A_prev, W, b,Z = cache\n",
        "    m =A_prev.shape[1]\n",
        "    if activation == \"relu\":\n",
        "        relu_derv = (Z>float(0)).astype(float)\n",
        "        dZ = dA*relu_derv\n",
        "        \n",
        "    elif activation == \"sigmoid\":\n",
        "        sigmoid_derv = Z*(1-Z)\n",
        "        dZ = dA*sigmoid_derv\n",
        "    dW = np.dot(dZ,A_prev.T)/m\n",
        "    db = np.sum(dZ,axis=1,keepdims=True)/m\n",
        "    dA_prev = np.dot(W.T,dZ)\n",
        "    \n",
        "    return dA_prev, dW, db\n",
        "\n"
      ],
      "execution_count": 133,
      "outputs": []
    },
    {
      "cell_type": "code",
      "metadata": {
        "id": "1H8IPqrrM6k-",
        "colab_type": "code",
        "colab": {}
      },
      "source": [
        "def backward_prop(AL, Y, caches):\n",
        "    grads = {}\n",
        "    L = len(caches)\n",
        "    m = AL.shape[1]\n",
        "    Y = Y.reshape(AL.shape) \n",
        "    eps=1e-8\n",
        "    \n",
        "    dAL = - (np.divide(Y, AL+eps) - np.divide(1 - Y, ((1 - AL)+eps)))\n",
        "    \n",
        "    current_caches=  caches[L-1]\n",
        "    grads[\"dA\" + str(L-1)], grads[\"dW\" + str(L)], grads[\"db\" + str(L)] = backward_step(dAL, current_caches, activation=\"sigmoid\")\n",
        "    \n",
        "    for l in reversed(range(L-1)):\n",
        "        current_caches = caches[l]\n",
        "        grads[\"dA\" + str(l)], grads[\"dW\" + str(l + 1)], grads[\"db\" + str(l + 1)] = backward_step(grads[\"dA\"+str(l+1)],current_caches, activation=\"relu\")\n",
        "    return grads"
      ],
      "execution_count": 304,
      "outputs": []
    },
    {
      "cell_type": "code",
      "metadata": {
        "id": "esybjyLPSuv3",
        "colab_type": "code",
        "colab": {}
      },
      "source": [
        "\n",
        "def update_parameters(parameters, grads, learning_rate):\n",
        "  \n",
        "    \n",
        "    L = len(parameters) // 2 \n",
        "\n",
        "    \n",
        "    for l in range(L):\n",
        "        parameters[\"W\" + str(l+1)] = parameters[\"W\" + str(l+1)] - learning_rate*grads[\"dW\"+str(l+1)]\n",
        "        parameters[\"b\" + str(l+1)] = parameters[\"b\" + str(l+1)] - learning_rate*grads[\"db\"+str(l+1)]\n",
        "    \n",
        "    return parameters"
      ],
      "execution_count": 135,
      "outputs": []
    },
    {
      "cell_type": "code",
      "metadata": {
        "id": "aFp7CIxcab06",
        "colab_type": "code",
        "colab": {}
      },
      "source": [
        "def accuracy(predicts,labels):\n",
        "    m = labels.shape[1]\n",
        "    pred = (predicts>0.5).astype(int)\n",
        "    acc = np.sum(pred==labels)\n",
        "    acc= 100*acc/m\n",
        "    \n",
        "    \n",
        "    return acc"
      ],
      "execution_count": 260,
      "outputs": []
    },
    {
      "cell_type": "code",
      "metadata": {
        "id": "7B4BimBAuE1S",
        "colab_type": "code",
        "colab": {}
      },
      "source": [
        "def model(X,Y,layer_dims,learning_rate=0.00000315,epochs=5):\n",
        "    costs = []                         \n",
        "    \n",
        "    parameters = initialize_parameters_deep(layer_dims)\n",
        "    \n",
        "    minibatches = X.shape[1]/50\n",
        "    minibatch_size= 50\n",
        "    AL = np.zeros([1,Y.shape[1]])\n",
        "    for i in range(epochs):\n",
        "        totcost = 0\n",
        "        for k in range(int(minibatches)) :\n",
        "            minibatch_X = X[:,(minibatch_size*k):(minibatch_size*(k+1))]\n",
        "            minibatch_Y = Y[:,(minibatch_size*k):(minibatch_size*(k+1))]\n",
        "            AL[:,(minibatch_size*k):(minibatch_size*(k+1))], caches = forward_propagation(minibatch_X, parameters)\n",
        "            totcost += compute_cost(AL[:,(minibatch_size*k):(minibatch_size*(k+1))], minibatch_Y)\n",
        "            grads = backward_prop(AL[:,(minibatch_size*k):(minibatch_size*(k+1))],minibatch_Y, caches)\n",
        "            \n",
        "            \n",
        "            parameters = update_parameters(parameters, grads,learning_rate)\n",
        "        Cost= totcost/minibatches   \n",
        "        print (\"Cost after epoch %i: %f\" %(i, Cost))\n",
        "    \n",
        "    return parameters,AL\n",
        "    "
      ],
      "execution_count": 238,
      "outputs": []
    },
    {
      "cell_type": "code",
      "metadata": {
        "id": "UwRj-wxV5BhY",
        "colab_type": "code",
        "colab": {
          "base_uri": "https://localhost:8080/",
          "height": 202
        },
        "outputId": "f35ee788-4df1-4a84-db21-bd010edf308e"
      },
      "source": [
        "layer_dims = [12288,2500,1]\n",
        "parameters,AL = model(X_train,Y_train,layer_dims)\n",
        "accur = accuracy(AL,Y_train)\n",
        "print(accur)\n"
      ],
      "execution_count": 334,
      "outputs": [
        {
          "output_type": "stream",
          "text": [
            "Cost after epoch 0: 0.682748\n",
            "Cost after epoch 1: 0.678942\n",
            "Cost after epoch 2: 0.676622\n",
            "Cost after epoch 3: 0.675026\n",
            "Cost after epoch 4: 0.673781\n",
            "Cost after epoch 5: 0.672702\n",
            "Cost after epoch 6: 0.671695\n",
            "Cost after epoch 7: 0.670712\n",
            "Cost after epoch 8: 0.669730\n",
            "Cost after epoch 9: 0.668739\n",
            "51.93333333333333\n"
          ],
          "name": "stdout"
        }
      ]
    },
    {
      "cell_type": "code",
      "metadata": {
        "id": "jdD4aExeVCbX",
        "colab_type": "code",
        "colab": {
          "base_uri": "https://localhost:8080/",
          "height": 134
        },
        "outputId": "5c6857db-50e0-4596-8029-adffa905cf59"
      },
      "source": [
        "parameters2,AL2 = model(X_test,Y_test,layer_dims,learning_rate=0.0000316,epochs = 5)\n",
        "print(AL2.shape)\n",
        "accu = accuracy(AL2,Y_test)\n",
        "print(accu)\n",
        "\n"
      ],
      "execution_count": 324,
      "outputs": [
        {
          "output_type": "stream",
          "text": [
            "Cost after epoch 0: 0.684857\n",
            "Cost after epoch 1: 0.684904\n",
            "Cost after epoch 2: 0.684952\n",
            "Cost after epoch 3: 0.684998\n",
            "Cost after epoch 4: 0.685045\n",
            "(1, 50)\n",
            "62.0\n"
          ],
          "name": "stdout"
        }
      ]
    },
    {
      "cell_type": "code",
      "metadata": {
        "id": "94-4KNRcZwp7",
        "colab_type": "code",
        "colab": {
          "base_uri": "https://localhost:8080/",
          "height": 118
        },
        "outputId": "ae51cde7-2d34-432b-b7ef-c71ede63fe60"
      },
      "source": [
        "parameters3,AL3 = model(X_val,Y_val,layer_dims,learning_rate=0.00003165,epochs=5)\n",
        "\n",
        "accur = accuracy(AL3,Y_val)\n",
        "print(accur)"
      ],
      "execution_count": 316,
      "outputs": [
        {
          "output_type": "stream",
          "text": [
            "Cost after epoch 0: 0.675918\n",
            "Cost after epoch 1: 0.675944\n",
            "Cost after epoch 2: 0.675969\n",
            "Cost after epoch 3: 0.675993\n",
            "Cost after epoch 4: 0.676016\n",
            "62.0\n"
          ],
          "name": "stdout"
        }
      ]
    }
  ]
}