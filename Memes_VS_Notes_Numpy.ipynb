{
  "nbformat": 4,
  "nbformat_minor": 0,
  "metadata": {
    "colab": {
      "name": "Memes_VS_Notes-Numpy",
      "provenance": [],
      "collapsed_sections": [],
      "authorship_tag": "ABX9TyNV+WAsxlFAQBizGOJtYDXF",
      "include_colab_link": true
    },
    "kernelspec": {
      "name": "python3",
      "display_name": "Python 3"
    }
  },
  "cells": [
    {
      "cell_type": "markdown",
      "metadata": {
        "id": "view-in-github",
        "colab_type": "text"
      },
      "source": [
        "<a href=\"https://colab.research.google.com/github/sibam23/memes_vs_note/blob/master/Memes_VS_Notes_Numpy.ipynb\" target=\"_parent\"><img src=\"https://colab.research.google.com/assets/colab-badge.svg\" alt=\"Open In Colab\"/></a>"
      ]
    },
    {
      "cell_type": "code",
      "metadata": {
        "id": "0qk1Wgh38t39",
        "colab_type": "code",
        "colab": {}
      },
      "source": [
        "import os\n",
        "import numpy as np\n",
        "from numpy import argmax\n",
        "import cv2\n",
        "from matplotlib import pyplot as plt\n",
        "import random\n",
        "np.random.seed(1)\n",
        "import math"
      ],
      "execution_count": 386,
      "outputs": []
    },
    {
      "cell_type": "code",
      "metadata": {
        "id": "OmurjJXx9N_X",
        "colab_type": "code",
        "colab": {
          "base_uri": "https://localhost:8080/",
          "height": 34
        },
        "outputId": "bee43ed4-24ad-4e24-8735-97dfa6a8c1fb"
      },
      "source": [
        "from google.colab import drive\n",
        "drive.mount('/content/gdrive')"
      ],
      "execution_count": 362,
      "outputs": [
        {
          "output_type": "stream",
          "text": [
            "Drive already mounted at /content/gdrive; to attempt to forcibly remount, call drive.mount(\"/content/gdrive\", force_remount=True).\n"
          ],
          "name": "stdout"
        }
      ]
    },
    {
      "cell_type": "code",
      "metadata": {
        "id": "LVewXJ0K9Vmj",
        "colab_type": "code",
        "colab": {}
      },
      "source": [
        "data_meme = \"/content/gdrive/My Drive/Stage_0/Stage_0/Memes\"\n",
        "data_note = \"/content/gdrive/My Drive/Stage_0/Stage_0/Notes\""
      ],
      "execution_count": 363,
      "outputs": []
    },
    {
      "cell_type": "code",
      "metadata": {
        "id": "Cjo4k65A9Y0e",
        "colab_type": "code",
        "colab": {}
      },
      "source": [
        "def dataloader(folder):\n",
        "  images = []\n",
        "  for file in os.listdir(folder):\n",
        "    img = cv2.imread(os.path.join(folder,file))\n",
        "    img = cv2.cvtColor(img,cv2.COLOR_BGR2RGB)\n",
        "    img = cv2.resize(img,(64,64))\n",
        "    images.append(img)\n",
        "    \n",
        "  return images"
      ],
      "execution_count": 364,
      "outputs": []
    },
    {
      "cell_type": "code",
      "metadata": {
        "id": "nKrcEkec9jlc",
        "colab_type": "code",
        "colab": {
          "base_uri": "https://localhost:8080/",
          "height": 34
        },
        "outputId": "ec72f176-cebe-40c8-ac6f-0da41584c021"
      },
      "source": [
        "memes = dataloader(data_meme)\n",
        "notes = dataloader(data_note)\n",
        "memes = np.array(memes)\n",
        "memes = memes.reshape(800,64,64,3)\n",
        "memelabel = np.ones(memes.shape[0])\n",
        "notes = np.array(notes)\n",
        "notes = notes.reshape(800,64,64,3)\n",
        "notelabel = np.zeros(notes.shape[0])\n",
        "print(notelabel.shape)\n"
      ],
      "execution_count": 365,
      "outputs": [
        {
          "output_type": "stream",
          "text": [
            "(800,)\n"
          ],
          "name": "stdout"
        }
      ]
    },
    {
      "cell_type": "code",
      "metadata": {
        "id": "9LMnwb5KECxw",
        "colab_type": "code",
        "colab": {
          "base_uri": "https://localhost:8080/",
          "height": 34
        },
        "outputId": "3a43bcdb-8c2d-4ede-8576-cfe35b614617"
      },
      "source": [
        "memedata = list(zip(memes,memelabel))\n",
        "notedata = list(zip(notes,notelabel))\n",
        "datatrain = []\n",
        "datatrain = memedata[0:750] + notedata[0:750]\n",
        "random.shuffle(datatrain)\n",
        "X_train,Y_train = list(zip(*datatrain))\n",
        "\n",
        "datatest = []\n",
        "datatest = memedata[750:775] + notedata[750:775]\n",
        "random.shuffle(datatest)\n",
        "X_test,Y_test = list(zip(*datatest))\n",
        "\n",
        "dataval = []\n",
        "dataval = memedata[775:] + notedata[775:]\n",
        "random.shuffle(dataval)\n",
        "X_val,Y_val = list(zip(*dataval))\n",
        "\n",
        "\n",
        "X_train = np.array(X_train)\n",
        "X_test = np.array(X_test)\n",
        "X_val = np.array(X_val)\n",
        "\n",
        "X_train = X_train.reshape(1500,-1)\n",
        "X_test = X_test.reshape(50,-1)\n",
        "X_val = X_val.reshape(50,-1)\n",
        "\n",
        "X_train = np.transpose(X_train)\n",
        "X_test = np.transpose(X_test)\n",
        "X_val = np.transpose(X_val)\n",
        "X_train.astype(float)\n",
        "X_test.astype(float)\n",
        "X_val.astype(float)\n",
        "\n",
        "\n",
        "\n",
        "X_train= X_train/255.0\n",
        "X_test= X_test/255.0\n",
        "X_val= X_val/255.0\n",
        "Y_train = np.array(Y_train)\n",
        "Y_train = Y_train.reshape(1,1500)\n",
        "Y_test = np.array(Y_test)\n",
        "Y_test = Y_test.reshape(1,50)\n",
        "Y_val = np.array(Y_val)\n",
        "Y_val = Y_val.reshape(1,50)\n",
        "\n",
        "print(Y_test.shape)\n"
      ],
      "execution_count": 366,
      "outputs": [
        {
          "output_type": "stream",
          "text": [
            "(1, 50)\n"
          ],
          "name": "stdout"
        }
      ]
    },
    {
      "cell_type": "code",
      "metadata": {
        "id": "TJJMyH4fFpAp",
        "colab_type": "code",
        "colab": {}
      },
      "source": [
        "def initialize_parameters_deep(layer_dims):\n",
        "    \n",
        "    \n",
        "    np.random.seed(1)\n",
        "    parameters = {}\n",
        "    L = len(layer_dims)            \n",
        "\n",
        "    for l in range(1, L):\n",
        "        \n",
        "        parameters['W' + str(l)] = np.random.randn(layer_dims[l],layer_dims[l-1])*0.01\n",
        "        parameters['b' + str(l)] = np.zeros((layer_dims[l],1))\n",
        "      \n",
        "\n",
        "        \n",
        "    return parameters"
      ],
      "execution_count": 367,
      "outputs": []
    },
    {
      "cell_type": "code",
      "metadata": {
        "id": "kRPy_GGYLkVM",
        "colab_type": "code",
        "colab": {}
      },
      "source": [
        "def forward_step(A_prev, W, b,method=\"relu\"):\n",
        "    \n",
        "    Z = np.dot(W,A_prev) + b\n",
        "    eps=1e-8\n",
        "    \n",
        "    if method==\"sigmoid\":\n",
        "        A = (1/(1+np.exp(-Z)))+eps\n",
        "    else:\n",
        "        A=np.maximum(float(0),Z)\n",
        "    cache_of_layer = (A_prev, W, b,Z)\n",
        "    return A, cache_of_layer"
      ],
      "execution_count": 368,
      "outputs": []
    },
    {
      "cell_type": "code",
      "metadata": {
        "id": "Gvkdaajy7ivu",
        "colab_type": "code",
        "colab": {}
      },
      "source": [
        "def forward_propagation(X, parameters):\n",
        "    caches = []\n",
        "    A = X\n",
        "    L = len(parameters) // 2                  \n",
        "    \n",
        "    for l in range(1, L):\n",
        "        A_prev = A \n",
        "        W=parameters['W' + str(l)]\n",
        "        b=parameters['b' + str(l)]\n",
        "        A, cache = forward_step(A_prev, W, b, \"relu\")\n",
        "        caches.append(cache)\n",
        "    \n",
        "    W=parameters['W' + str(L)]\n",
        "    b=parameters['b' + str(L)]\n",
        "    AL, cache = forward_step(A, W, b, \"sigmoid\")\n",
        "    caches.append(cache)\n",
        "    return AL, caches"
      ],
      "execution_count": 369,
      "outputs": []
    },
    {
      "cell_type": "code",
      "metadata": {
        "id": "bwwgWlC0MFyW",
        "colab_type": "code",
        "colab": {}
      },
      "source": [
        "def compute_cost(AL, Y):\n",
        "     \n",
        "    m = Y.shape[1]\n",
        "    eps = 1e-10\n",
        " \n",
        "    cost = (-1/m)*np.sum((np.multiply(np.log(AL+eps),Y))+np.multiply(np.log(1-AL+eps),(1-Y)))\n",
        "\n",
        "    \n",
        "    cost = np.squeeze(cost)\n",
        "\n",
        "     \n",
        "\n",
        "    \n",
        "    return cost\n",
        "    "
      ],
      "execution_count": 389,
      "outputs": []
    },
    {
      "cell_type": "code",
      "metadata": {
        "id": "k3tNwkwiMmRb",
        "colab_type": "code",
        "colab": {}
      },
      "source": [
        "def backward_step(dA, cache, activation):\n",
        "    \n",
        "    A_prev, W, b,Z = cache\n",
        "    m =A_prev.shape[1]\n",
        "    if activation == \"relu\":\n",
        "        relu_derv = (Z>float(0)).astype(float)\n",
        "        dZ = dA*relu_derv\n",
        "        \n",
        "    elif activation == \"sigmoid\":\n",
        "        sigmoid_derv = Z*(1-Z)\n",
        "        dZ = dA*sigmoid_derv\n",
        "    dW = np.dot(dZ,A_prev.T)/m\n",
        "    db = np.sum(dZ,axis=1,keepdims=True)/m\n",
        "    dA_prev = np.dot(W.T,dZ)\n",
        "    \n",
        "    return dA_prev, dW, db\n",
        "\n"
      ],
      "execution_count": 371,
      "outputs": []
    },
    {
      "cell_type": "code",
      "metadata": {
        "id": "1H8IPqrrM6k-",
        "colab_type": "code",
        "colab": {}
      },
      "source": [
        "def backward_prop(AL, Y, caches):\n",
        "    grads = {}\n",
        "    L = len(caches)\n",
        "    m = AL.shape[1]\n",
        "    Y = Y.reshape(AL.shape) \n",
        "    eps=1e-8\n",
        "    \n",
        "    dAL = - (np.divide(Y, AL+eps) - np.divide(1 - Y, ((1 - AL)+eps)))\n",
        "    \n",
        "    current_caches=  caches[L-1]\n",
        "    grads[\"dA\" + str(L-1)], grads[\"dW\" + str(L)], grads[\"db\" + str(L)] = backward_step(dAL, current_caches, activation=\"sigmoid\")\n",
        "    \n",
        "    for l in reversed(range(L-1)):\n",
        "        current_caches = caches[l]\n",
        "        grads[\"dA\" + str(l)], grads[\"dW\" + str(l + 1)], grads[\"db\" + str(l + 1)] = backward_step(grads[\"dA\"+str(l+1)],current_caches, activation=\"relu\")\n",
        "    return grads"
      ],
      "execution_count": 372,
      "outputs": []
    },
    {
      "cell_type": "code",
      "metadata": {
        "id": "esybjyLPSuv3",
        "colab_type": "code",
        "colab": {}
      },
      "source": [
        "\n",
        "def update_parameters(parameters, grads, learning_rate):\n",
        "  \n",
        "    \n",
        "    L = len(parameters) // 2 \n",
        "\n",
        "    \n",
        "    for l in range(L):\n",
        "        parameters[\"W\" + str(l+1)] = parameters[\"W\" + str(l+1)] - learning_rate*grads[\"dW\"+str(l+1)]\n",
        "        parameters[\"b\" + str(l+1)] = parameters[\"b\" + str(l+1)] - learning_rate*grads[\"db\"+str(l+1)]\n",
        "    \n",
        "    return parameters"
      ],
      "execution_count": 373,
      "outputs": []
    },
    {
      "cell_type": "code",
      "metadata": {
        "id": "aFp7CIxcab06",
        "colab_type": "code",
        "colab": {}
      },
      "source": [
        "def accuracy(predicts,labels):\n",
        "    m = labels.shape[1]\n",
        "    pred = (predicts>0.5).astype(int)\n",
        "    acc = np.sum(pred==labels)\n",
        "    acc= 100*acc/m\n",
        "    \n",
        "    \n",
        "    return acc"
      ],
      "execution_count": 374,
      "outputs": []
    },
    {
      "cell_type": "code",
      "metadata": {
        "id": "7B4BimBAuE1S",
        "colab_type": "code",
        "colab": {}
      },
      "source": [
        "def model(X,Y,layer_dims,learning_rate=0.000315,epochs=10):\n",
        "    costs = []\n",
        "    \n",
        "           \n",
        "    \n",
        "    parameters = initialize_parameters_deep(layer_dims)\n",
        "    \n",
        "    minibatches = X.shape[1]/50\n",
        "    minibatch_size= 50\n",
        "    AL = np.zeros([1,Y.shape[1]])\n",
        "    for i in range(epochs):\n",
        "        totcost = 0\n",
        "        for k in range(int(minibatches)) :\n",
        "            minibatch_X = X[:,(minibatch_size*k):(minibatch_size*(k+1))]\n",
        "            minibatch_Y = Y[:,(minibatch_size*k):(minibatch_size*(k+1))]\n",
        "            AL[:,(minibatch_size*k):(minibatch_size*(k+1))], caches = forward_propagation(minibatch_X, parameters)\n",
        "            totcost += compute_cost(AL[:,(minibatch_size*k):(minibatch_size*(k+1))], minibatch_Y)\n",
        "            grads = backward_prop(AL[:,(minibatch_size*k):(minibatch_size*(k+1))],minibatch_Y, caches)\n",
        "            \n",
        "            \n",
        "            parameters = update_parameters(parameters, grads,learning_rate)\n",
        "        Cost= totcost/minibatches   \n",
        "        print (\"Cost after epoch %i: %f\" %(i, Cost))\n",
        "    \n",
        "    \n",
        "    return parameters,AL\n",
        "    "
      ],
      "execution_count": 405,
      "outputs": []
    },
    {
      "cell_type": "code",
      "metadata": {
        "id": "1_D-1rmzRNCa",
        "colab_type": "code",
        "colab": {
          "base_uri": "https://localhost:8080/",
          "height": 185
        },
        "outputId": "ab4e9bb0-a561-49b9-9624-9bdec0ca2132"
      },
      "source": [
        " parameters,AL = model(X_train,Y_train,layer_dims=[12288,2500,1])"
      ],
      "execution_count": 403,
      "outputs": [
        {
          "output_type": "stream",
          "text": [
            "Cost after epoch 0: 0.674069\n",
            "Cost after epoch 1: 0.662602\n",
            "Cost after epoch 2: 0.651094\n",
            "Cost after epoch 3: 0.639808\n",
            "Cost after epoch 4: 0.629769\n",
            "Cost after epoch 5: 0.621350\n",
            "Cost after epoch 6: 0.614484\n",
            "Cost after epoch 7: 0.608927\n",
            "Cost after epoch 8: 0.604405\n",
            "Cost after epoch 9: 0.600661\n"
          ],
          "name": "stdout"
        }
      ]
    },
    {
      "cell_type": "code",
      "metadata": {
        "id": "ps1Ifd4fSizi",
        "colab_type": "code",
        "colab": {
          "base_uri": "https://localhost:8080/",
          "height": 67
        },
        "outputId": "d105a93b-fb7e-45e2-9987-02c7cd9aacbb"
      },
      "source": [
        "acc = accuracy(AL,Y_train)\n",
        "ALt,_ = forward_propagation(X_test,parameters)\n",
        "acct  = accuracy(ALt,Y_test)\n",
        "ALv,_ = forward_propagation(X_val,parameters)\n",
        "accv  = accuracy(ALv,Y_val)\n",
        "print(\"train accuracy = {}\".format(accu))\n",
        "print(\"test accuracy = {}\".format(acct))\n",
        "print(\"val accuracy = {}\".format(accv))\n",
        "\n",
        "\n"
      ],
      "execution_count": 404,
      "outputs": [
        {
          "output_type": "stream",
          "text": [
            "train accuracy = 62.0\n",
            "test accuracy = 74.0\n",
            "val accuracy = 64.0\n"
          ],
          "name": "stdout"
        }
      ]
    }
  ]
}